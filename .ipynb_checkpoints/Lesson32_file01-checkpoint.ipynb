{
 "cells": [
  {
   "cell_type": "markdown",
   "id": "9966a4c3",
   "metadata": {},
   "source": [
    "**Рішення завдання №1**"
   ]
  },
  {
   "cell_type": "code",
   "execution_count": 14,
   "id": "3b7822c7-f7d6-4074-86a3-e6351a0ca4ac",
   "metadata": {},
   "outputs": [],
   "source": [
    "#!pip install names"
   ]
  },
  {
   "cell_type": "code",
   "execution_count": 1,
   "id": "16e8302c-ffd2-4b02-9494-bc352bdb6e04",
   "metadata": {},
   "outputs": [],
   "source": [
    "import pandas as pd\n",
    "import numpy as np\n",
    "import names"
   ]
  },
  {
   "cell_type": "markdown",
   "id": "7b4658e5-92c4-47b4-a775-afec5bfd63ae",
   "metadata": {},
   "source": [
    "#### 1.Створюємо датафрейм із даними"
   ]
  },
  {
   "cell_type": "code",
   "execution_count": 2,
   "id": "eabbea73-7af7-4672-b5ce-7fee1277201c",
   "metadata": {},
   "outputs": [
    {
     "data": {
      "text/html": [
       "<div>\n",
       "<style scoped>\n",
       "    .dataframe tbody tr th:only-of-type {\n",
       "        vertical-align: middle;\n",
       "    }\n",
       "\n",
       "    .dataframe tbody tr th {\n",
       "        vertical-align: top;\n",
       "    }\n",
       "\n",
       "    .dataframe thead th {\n",
       "        text-align: right;\n",
       "    }\n",
       "</style>\n",
       "<table border=\"1\" class=\"dataframe\">\n",
       "  <thead>\n",
       "    <tr style=\"text-align: right;\">\n",
       "      <th></th>\n",
       "      <th>Name Surnam</th>\n",
       "      <th>Middle points</th>\n",
       "      <th>Point exam</th>\n",
       "      <th>Try:number</th>\n",
       "    </tr>\n",
       "  </thead>\n",
       "  <tbody>\n",
       "    <tr>\n",
       "      <th>0</th>\n",
       "      <td>Darla Johnson</td>\n",
       "      <td>63</td>\n",
       "      <td>44</td>\n",
       "      <td>3</td>\n",
       "    </tr>\n",
       "    <tr>\n",
       "      <th>1</th>\n",
       "      <td>Debra Medina</td>\n",
       "      <td>1</td>\n",
       "      <td>6</td>\n",
       "      <td>1</td>\n",
       "    </tr>\n",
       "    <tr>\n",
       "      <th>2</th>\n",
       "      <td>Jacklyn Earl</td>\n",
       "      <td>17</td>\n",
       "      <td>54</td>\n",
       "      <td>3</td>\n",
       "    </tr>\n",
       "    <tr>\n",
       "      <th>3</th>\n",
       "      <td>Robert Groves</td>\n",
       "      <td>37</td>\n",
       "      <td>49</td>\n",
       "      <td>3</td>\n",
       "    </tr>\n",
       "    <tr>\n",
       "      <th>4</th>\n",
       "      <td>Rebecca Goodman</td>\n",
       "      <td>40</td>\n",
       "      <td>28</td>\n",
       "      <td>2</td>\n",
       "    </tr>\n",
       "    <tr>\n",
       "      <th>5</th>\n",
       "      <td>Ina Griggs</td>\n",
       "      <td>29</td>\n",
       "      <td>41</td>\n",
       "      <td>1</td>\n",
       "    </tr>\n",
       "    <tr>\n",
       "      <th>6</th>\n",
       "      <td>Etta Morris</td>\n",
       "      <td>68</td>\n",
       "      <td>78</td>\n",
       "      <td>1</td>\n",
       "    </tr>\n",
       "    <tr>\n",
       "      <th>7</th>\n",
       "      <td>Gordon Hargrave</td>\n",
       "      <td>45</td>\n",
       "      <td>10</td>\n",
       "      <td>1</td>\n",
       "    </tr>\n",
       "    <tr>\n",
       "      <th>8</th>\n",
       "      <td>Elsie Gordon</td>\n",
       "      <td>69</td>\n",
       "      <td>53</td>\n",
       "      <td>2</td>\n",
       "    </tr>\n",
       "    <tr>\n",
       "      <th>9</th>\n",
       "      <td>Annette Eubanks</td>\n",
       "      <td>52</td>\n",
       "      <td>64</td>\n",
       "      <td>1</td>\n",
       "    </tr>\n",
       "    <tr>\n",
       "      <th>10</th>\n",
       "      <td>Katherine Frye</td>\n",
       "      <td>27</td>\n",
       "      <td>68</td>\n",
       "      <td>1</td>\n",
       "    </tr>\n",
       "    <tr>\n",
       "      <th>11</th>\n",
       "      <td>Jack Dorsett</td>\n",
       "      <td>34</td>\n",
       "      <td>76</td>\n",
       "      <td>2</td>\n",
       "    </tr>\n",
       "    <tr>\n",
       "      <th>12</th>\n",
       "      <td>Carol Stanger</td>\n",
       "      <td>26</td>\n",
       "      <td>25</td>\n",
       "      <td>0</td>\n",
       "    </tr>\n",
       "    <tr>\n",
       "      <th>13</th>\n",
       "      <td>Trinh Bryant</td>\n",
       "      <td>66</td>\n",
       "      <td>20</td>\n",
       "      <td>1</td>\n",
       "    </tr>\n",
       "    <tr>\n",
       "      <th>14</th>\n",
       "      <td>Mildred Burkett</td>\n",
       "      <td>54</td>\n",
       "      <td>21</td>\n",
       "      <td>1</td>\n",
       "    </tr>\n",
       "  </tbody>\n",
       "</table>\n",
       "</div>"
      ],
      "text/plain": [
       "        Name Surnam  Middle points  Point exam  Try:number\n",
       "0     Darla Johnson             63          44           3\n",
       "1      Debra Medina              1           6           1\n",
       "2      Jacklyn Earl             17          54           3\n",
       "3     Robert Groves             37          49           3\n",
       "4   Rebecca Goodman             40          28           2\n",
       "5        Ina Griggs             29          41           1\n",
       "6       Etta Morris             68          78           1\n",
       "7   Gordon Hargrave             45          10           1\n",
       "8      Elsie Gordon             69          53           2\n",
       "9   Annette Eubanks             52          64           1\n",
       "10   Katherine Frye             27          68           1\n",
       "11     Jack Dorsett             34          76           2\n",
       "12    Carol Stanger             26          25           0\n",
       "13     Trinh Bryant             66          20           1\n",
       "14  Mildred Burkett             54          21           1"
      ]
     },
     "execution_count": 2,
     "metadata": {},
     "output_type": "execute_result"
    }
   ],
   "source": [
    "students = {\n",
    "    \"Name Surnam\": [names.get_full_name() for _ in range(15)],\n",
    "    \"Middle points\": np.random.randint(70, size=15),\n",
    "    \"Point exam\": np.random.randint(80, size=15),\n",
    "    \"Try:number\": np.random.randint(4, size=15)\n",
    "}\n",
    "\n",
    "df = pd.DataFrame.from_dict(students)\n",
    "df"
   ]
  },
  {
   "cell_type": "markdown",
   "id": "953c0e93-0302-43f0-9ec4-9905d8125d93",
   "metadata": {},
   "source": [
    "#### 2.Додамо до датафрейму стовпчик, що містить дані про допуск студента на наступний курс"
   ]
  },
  {
   "cell_type": "code",
   "execution_count": 5,
   "id": "b68e0b38-b287-432f-adf4-047867ae9dc7",
   "metadata": {},
   "outputs": [
    {
     "data": {
      "text/html": [
       "<div>\n",
       "<style scoped>\n",
       "    .dataframe tbody tr th:only-of-type {\n",
       "        vertical-align: middle;\n",
       "    }\n",
       "\n",
       "    .dataframe tbody tr th {\n",
       "        vertical-align: top;\n",
       "    }\n",
       "\n",
       "    .dataframe thead th {\n",
       "        text-align: right;\n",
       "    }\n",
       "</style>\n",
       "<table border=\"1\" class=\"dataframe\">\n",
       "  <thead>\n",
       "    <tr style=\"text-align: right;\">\n",
       "      <th></th>\n",
       "      <th>Name Surnam</th>\n",
       "      <th>Middle points</th>\n",
       "      <th>Point exam</th>\n",
       "      <th>Try:number</th>\n",
       "      <th>Next year</th>\n",
       "    </tr>\n",
       "  </thead>\n",
       "  <tbody>\n",
       "    <tr>\n",
       "      <th>0</th>\n",
       "      <td>Darla Johnson</td>\n",
       "      <td>63</td>\n",
       "      <td>44</td>\n",
       "      <td>3</td>\n",
       "      <td>yes</td>\n",
       "    </tr>\n",
       "    <tr>\n",
       "      <th>1</th>\n",
       "      <td>Debra Medina</td>\n",
       "      <td>1</td>\n",
       "      <td>6</td>\n",
       "      <td>1</td>\n",
       "      <td>yes</td>\n",
       "    </tr>\n",
       "    <tr>\n",
       "      <th>2</th>\n",
       "      <td>Jacklyn Earl</td>\n",
       "      <td>17</td>\n",
       "      <td>54</td>\n",
       "      <td>3</td>\n",
       "      <td>yes</td>\n",
       "    </tr>\n",
       "    <tr>\n",
       "      <th>3</th>\n",
       "      <td>Robert Groves</td>\n",
       "      <td>37</td>\n",
       "      <td>49</td>\n",
       "      <td>3</td>\n",
       "      <td>yes</td>\n",
       "    </tr>\n",
       "    <tr>\n",
       "      <th>4</th>\n",
       "      <td>Rebecca Goodman</td>\n",
       "      <td>40</td>\n",
       "      <td>28</td>\n",
       "      <td>2</td>\n",
       "      <td>yes</td>\n",
       "    </tr>\n",
       "    <tr>\n",
       "      <th>5</th>\n",
       "      <td>Ina Griggs</td>\n",
       "      <td>29</td>\n",
       "      <td>41</td>\n",
       "      <td>1</td>\n",
       "      <td>yes</td>\n",
       "    </tr>\n",
       "    <tr>\n",
       "      <th>6</th>\n",
       "      <td>Etta Morris</td>\n",
       "      <td>68</td>\n",
       "      <td>78</td>\n",
       "      <td>1</td>\n",
       "      <td>yes</td>\n",
       "    </tr>\n",
       "    <tr>\n",
       "      <th>7</th>\n",
       "      <td>Gordon Hargrave</td>\n",
       "      <td>45</td>\n",
       "      <td>10</td>\n",
       "      <td>1</td>\n",
       "      <td>yes</td>\n",
       "    </tr>\n",
       "    <tr>\n",
       "      <th>8</th>\n",
       "      <td>Elsie Gordon</td>\n",
       "      <td>69</td>\n",
       "      <td>53</td>\n",
       "      <td>2</td>\n",
       "      <td>yes</td>\n",
       "    </tr>\n",
       "    <tr>\n",
       "      <th>9</th>\n",
       "      <td>Annette Eubanks</td>\n",
       "      <td>52</td>\n",
       "      <td>64</td>\n",
       "      <td>1</td>\n",
       "      <td>yes</td>\n",
       "    </tr>\n",
       "    <tr>\n",
       "      <th>10</th>\n",
       "      <td>Katherine Frye</td>\n",
       "      <td>27</td>\n",
       "      <td>68</td>\n",
       "      <td>1</td>\n",
       "      <td>yes</td>\n",
       "    </tr>\n",
       "    <tr>\n",
       "      <th>11</th>\n",
       "      <td>Jack Dorsett</td>\n",
       "      <td>34</td>\n",
       "      <td>76</td>\n",
       "      <td>2</td>\n",
       "      <td>yes</td>\n",
       "    </tr>\n",
       "    <tr>\n",
       "      <th>12</th>\n",
       "      <td>Carol Stanger</td>\n",
       "      <td>26</td>\n",
       "      <td>25</td>\n",
       "      <td>0</td>\n",
       "      <td>yes</td>\n",
       "    </tr>\n",
       "    <tr>\n",
       "      <th>13</th>\n",
       "      <td>Trinh Bryant</td>\n",
       "      <td>66</td>\n",
       "      <td>20</td>\n",
       "      <td>1</td>\n",
       "      <td>yes</td>\n",
       "    </tr>\n",
       "    <tr>\n",
       "      <th>14</th>\n",
       "      <td>Mildred Burkett</td>\n",
       "      <td>54</td>\n",
       "      <td>21</td>\n",
       "      <td>1</td>\n",
       "      <td>yes</td>\n",
       "    </tr>\n",
       "  </tbody>\n",
       "</table>\n",
       "</div>"
      ],
      "text/plain": [
       "        Name Surnam  Middle points  Point exam  Try:number Next year\n",
       "0     Darla Johnson             63          44           3       yes\n",
       "1      Debra Medina              1           6           1       yes\n",
       "2      Jacklyn Earl             17          54           3       yes\n",
       "3     Robert Groves             37          49           3       yes\n",
       "4   Rebecca Goodman             40          28           2       yes\n",
       "5        Ina Griggs             29          41           1       yes\n",
       "6       Etta Morris             68          78           1       yes\n",
       "7   Gordon Hargrave             45          10           1       yes\n",
       "8      Elsie Gordon             69          53           2       yes\n",
       "9   Annette Eubanks             52          64           1       yes\n",
       "10   Katherine Frye             27          68           1       yes\n",
       "11     Jack Dorsett             34          76           2       yes\n",
       "12    Carol Stanger             26          25           0       yes\n",
       "13     Trinh Bryant             66          20           1       yes\n",
       "14  Mildred Burkett             54          21           1       yes"
      ]
     },
     "execution_count": 5,
     "metadata": {},
     "output_type": "execute_result"
    }
   ],
   "source": [
    "df[\"Next year\"] = [\"yes\",\"yes\",\"yes\",\"yes\",\"yes\",\"yes\",\"yes\",\"yes\",\"yes\",\"yes\",\"yes\",\"yes\",\"yes\",\"yes\",\"yes\"]\n",
    "df"
   ]
  },
  {
   "cell_type": "markdown",
   "id": "16417f9d-6dc1-4c94-969b-02b58b8851e8",
   "metadata": {},
   "source": [
    "#### 3.Виведемо мінімальний, максимальний та середній показники середнього балу студентів"
   ]
  },
  {
   "cell_type": "code",
   "execution_count": 6,
   "id": "bfff631a-04a8-423b-955c-0149d90ef307",
   "metadata": {
    "scrolled": true
   },
   "outputs": [
    {
     "data": {
      "text/html": [
       "<div>\n",
       "<style scoped>\n",
       "    .dataframe tbody tr th:only-of-type {\n",
       "        vertical-align: middle;\n",
       "    }\n",
       "\n",
       "    .dataframe tbody tr th {\n",
       "        vertical-align: top;\n",
       "    }\n",
       "\n",
       "    .dataframe thead th {\n",
       "        text-align: right;\n",
       "    }\n",
       "</style>\n",
       "<table border=\"1\" class=\"dataframe\">\n",
       "  <thead>\n",
       "    <tr style=\"text-align: right;\">\n",
       "      <th></th>\n",
       "      <th>Middle points</th>\n",
       "    </tr>\n",
       "  </thead>\n",
       "  <tbody>\n",
       "    <tr>\n",
       "      <th>min</th>\n",
       "      <td>1.0</td>\n",
       "    </tr>\n",
       "    <tr>\n",
       "      <th>max</th>\n",
       "      <td>69.0</td>\n",
       "    </tr>\n",
       "    <tr>\n",
       "      <th>median</th>\n",
       "      <td>40.0</td>\n",
       "    </tr>\n",
       "  </tbody>\n",
       "</table>\n",
       "</div>"
      ],
      "text/plain": [
       "        Middle points\n",
       "min               1.0\n",
       "max              69.0\n",
       "median           40.0"
      ]
     },
     "execution_count": 6,
     "metadata": {},
     "output_type": "execute_result"
    }
   ],
   "source": [
    "df.agg({ \"Middle points\" : [\"min\",\"max\",\"median\"]})"
   ]
  },
  {
   "cell_type": "markdown",
   "id": "b94f6f7f-9bec-4cc0-9300-3804539b174a",
   "metadata": {},
   "source": [
    "#### 4.Виведемо кількість студентів,що здали поточний екзамен з першого разу та порахуємо"
   ]
  },
  {
   "cell_type": "code",
   "execution_count": 10,
   "id": "124b7350-6650-4e4c-aa77-81acf0605fa4",
   "metadata": {},
   "outputs": [
    {
     "data": {
      "text/plain": [
       "1        Debra Medina\n",
       "5          Ina Griggs\n",
       "6         Etta Morris\n",
       "7     Gordon Hargrave\n",
       "9     Annette Eubanks\n",
       "10     Katherine Frye\n",
       "13       Trinh Bryant\n",
       "14    Mildred Burkett\n",
       "Name: Name Surnam, dtype: object"
      ]
     },
     "execution_count": 10,
     "metadata": {},
     "output_type": "execute_result"
    }
   ],
   "source": [
    "students_1 = df.loc[df[\"Try:number\"] == 1, \"Name Surnam\"]\n",
    "students_1"
   ]
  },
  {
   "cell_type": "code",
   "execution_count": 11,
   "id": "bbb38913-d660-4a35-8e41-7a3aef9f2702",
   "metadata": {},
   "outputs": [
    {
     "data": {
      "text/plain": [
       "Try:number\n",
       "False    7\n",
       "True     8\n",
       "Name: Try:number, dtype: int64"
      ]
     },
     "execution_count": 11,
     "metadata": {},
     "output_type": "execute_result"
    }
   ],
   "source": [
    "df.groupby(df[\"Try:number\"]==1)[\"Try:number\"].count()"
   ]
  },
  {
   "cell_type": "markdown",
   "id": "4cda0f75-3069-41fe-9de3-3e0d1cbadfd4",
   "metadata": {},
   "source": [
    "#### 5.Збережемо деякі дані із датафрейму у вигляді серії"
   ]
  },
  {
   "cell_type": "code",
   "execution_count": 13,
   "id": "d4e01352-6316-4924-a3f4-cc0558ff818b",
   "metadata": {},
   "outputs": [
    {
     "data": {
      "text/plain": [
       "0       Darla Johnson\n",
       "1        Debra Medina\n",
       "2        Jacklyn Earl\n",
       "3       Robert Groves\n",
       "4     Rebecca Goodman\n",
       "5          Ina Griggs\n",
       "6         Etta Morris\n",
       "7     Gordon Hargrave\n",
       "8        Elsie Gordon\n",
       "9     Annette Eubanks\n",
       "10     Katherine Frye\n",
       "11       Jack Dorsett\n",
       "12      Carol Stanger\n",
       "13       Trinh Bryant\n",
       "14    Mildred Burkett\n",
       "Name: Name Surnam, dtype: object"
      ]
     },
     "execution_count": 13,
     "metadata": {},
     "output_type": "execute_result"
    }
   ],
   "source": [
    "my_students = df[\"Name Surnam\"]\n",
    "my_students"
   ]
  }
 ],
 "metadata": {
  "kernelspec": {
   "display_name": "Python 3 (ipykernel)",
   "language": "python",
   "name": "python3"
  },
  "language_info": {
   "codemirror_mode": {
    "name": "ipython",
    "version": 3
   },
   "file_extension": ".py",
   "mimetype": "text/x-python",
   "name": "python",
   "nbconvert_exporter": "python",
   "pygments_lexer": "ipython3",
   "version": "3.10.11"
  }
 },
 "nbformat": 4,
 "nbformat_minor": 5
}
